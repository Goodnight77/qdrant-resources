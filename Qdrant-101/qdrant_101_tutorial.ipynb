{
 "cells": [
  {
   "cell_type": "markdown",
   "metadata": {
    "colab_type": "text",
    "id": "view-in-github"
   },
   "source": [
    "<a href=\"https://colab.research.google.com/github/yourusername/qdrant-resources/blob/main/01_qdrant_101/qdrant_101_tutorial.ipynb\" target=\"_parent\"><img src=\"https://colab.research.google.com/assets/colab-badge.svg\" alt=\"Open In Colab\"/></a>"
   ]
  },
  {
   "cell_type": "markdown",
   "metadata": {},
   "source": [
    "# Qdrant 101: Getting Started with Vector Search\n",
    "\n",
    "Welcome to the complete beginner's guide to Qdrant! In this tutorial, you'll learn:\n",
    "\n",
    "- ✅ What is Qdrant and why use it?\n",
    "- ✅ Creating your first vector collection\n",
    "- ✅ Adding documents and vectors\n",
    "- ✅ Performing semantic search\n",
    "- ✅ Filtering results with metadata\n",
    "- ✅ Best practices and optimization tips\n",
    "\n",
    "**Duration:** ~30 minutes (maybe less) <br>\n",
    "**Level:** Beginner  \n",
    "**Requirements:** Basic Python knowledge"
   ]
  },
  {
   "cell_type": "markdown",
   "metadata": {},
   "source": [
    "## Setup and Installation"
   ]
  },
  {
   "cell_type": "code",
   "execution_count": null,
   "metadata": {},
   "outputs": [],
   "source": [
    "!pip install -q qdrant-client[fastembed] sentence-transformers pandas numpy tqdm matplotlib -q \n",
    "\n",
    "import warnings\n",
    "warnings.filterwarnings('ignore')\n",
    "\n",
    "print(\"Dependencies installed successfully!\")"
   ]
  },
  {
   "cell_type": "markdown",
   "metadata": {},
   "source": [
    "## What is Qdrant?\n",
    "\n",
    "Qdrant is a **vector similarity search engine** that allows you to:\n",
    "\n",
    "- **Search by meaning** instead of exact keywords\n",
    "- **Scale to billions** of vectors efficiently  \n",
    "- **Filter by metadata** for precise results\n",
    "- **Real-time updates** and millisecond search\n",
    "- **Easy integration** with AI/ML pipelines\n",
    "\n",
    "### Key Concepts:\n",
    "- **Vector**: Numerical representation of data (text, images, audio)\n",
    "- **Collection**: Container for vectors with same configuration\n",
    "- **Point**: Vector + metadata + unique ID\n",
    "- **Similarity Search**: Find vectors closest to a query vector\n",
    "\n",
    "> **Want to learn more?** Check out this comprehensive article: [Vector Search: How Qdrant Makes Finding Needles in Haystacks Actually Fun](https://medium.com/@mohammedarbinsibi/vector-search-how-qdrant-makes-finding-needles-in-haystacks-actually-fun-96413694b2a8)"
   ]
  },
  {
   "cell_type": "markdown",
   "metadata": {},
   "source": [
    "## Initialize Qdrant Client"
   ]
  },
  {
   "cell_type": "code",
   "execution_count": null,
   "metadata": {},
   "outputs": [
    {
     "name": "stdout",
     "output_type": "stream",
     "text": [
      "Running in RAM mode for this tutorial\n",
      "Qdrant client initialized successfully!\n"
     ]
    }
   ],
   "source": [
    "from qdrant_client import QdrantClient, models\n",
    "from qdrant_client.models import (\n",
    "    Distance,\n",
    "    VectorParams,\n",
    "    PointStruct,\n",
    "    Filter,\n",
    "    FieldCondition,\n",
    "    MatchValue\n",
    ")\n",
    "import numpy as np\n",
    "import pandas as pd\n",
    "from tqdm.auto import tqdm\n",
    "import uuid\n",
    "\n",
    "#initialize Qdrant in memory mode (perfect for tutorials)\n",
    "print(f\"Running in RAM mode for this tutorial\")\n",
    "client = QdrantClient(\":memory:\")  # Uses RAM instead of disk\n",
    "\n",
    "# print(f\"Running in disk mode for this tutorial\")\n",
    "# client = QdrantClient(path = \"qdrant_db\")  # Uses disk instead of RAM\n",
    "print(\"Qdrant client initialized successfully!\")"
   ]
  },
  {
   "cell_type": "markdown",
   "metadata": {},
   "source": [
    "## Sample Data: Tech Articles\n",
    "\n",
    "Let's create a dataset of technology articles to demonstrate vector search capabilities."
   ]
  },
  {
   "cell_type": "code",
   "execution_count": 27,
   "metadata": {},
   "outputs": [
    {
     "name": "stdout",
     "output_type": "stream",
     "text": [
      "Created dataset with 8 articles\n",
      "\n",
      " Sample articles:\n"
     ]
    },
    {
     "data": {
      "text/html": [
       "<div>\n",
       "<style scoped>\n",
       "    .dataframe tbody tr th:only-of-type {\n",
       "        vertical-align: middle;\n",
       "    }\n",
       "\n",
       "    .dataframe tbody tr th {\n",
       "        vertical-align: top;\n",
       "    }\n",
       "\n",
       "    .dataframe thead th {\n",
       "        text-align: right;\n",
       "    }\n",
       "</style>\n",
       "<table border=\"1\" class=\"dataframe\">\n",
       "  <thead>\n",
       "    <tr style=\"text-align: right;\">\n",
       "      <th></th>\n",
       "      <th>title</th>\n",
       "      <th>category</th>\n",
       "      <th>difficulty</th>\n",
       "    </tr>\n",
       "  </thead>\n",
       "  <tbody>\n",
       "    <tr>\n",
       "      <th>0</th>\n",
       "      <td>Introduction to Machine Learning</td>\n",
       "      <td>AI</td>\n",
       "      <td>beginner</td>\n",
       "    </tr>\n",
       "    <tr>\n",
       "      <th>1</th>\n",
       "      <td>Vector Databases Explained</td>\n",
       "      <td>Database</td>\n",
       "      <td>intermediate</td>\n",
       "    </tr>\n",
       "    <tr>\n",
       "      <th>2</th>\n",
       "      <td>Deep Learning with Neural Networks</td>\n",
       "      <td>AI</td>\n",
       "      <td>advanced</td>\n",
       "    </tr>\n",
       "    <tr>\n",
       "      <th>3</th>\n",
       "      <td>Building Scalable Web APIs</td>\n",
       "      <td>Web Development</td>\n",
       "      <td>intermediate</td>\n",
       "    </tr>\n",
       "    <tr>\n",
       "      <th>4</th>\n",
       "      <td>Quantum Computing Basics</td>\n",
       "      <td>Quantum</td>\n",
       "      <td>advanced</td>\n",
       "    </tr>\n",
       "  </tbody>\n",
       "</table>\n",
       "</div>"
      ],
      "text/plain": [
       "                                title         category    difficulty\n",
       "0    Introduction to Machine Learning               AI      beginner\n",
       "1          Vector Databases Explained         Database  intermediate\n",
       "2  Deep Learning with Neural Networks               AI      advanced\n",
       "3          Building Scalable Web APIs  Web Development  intermediate\n",
       "4            Quantum Computing Basics          Quantum      advanced"
      ]
     },
     "metadata": {},
     "output_type": "display_data"
    }
   ],
   "source": [
    "# Sample technology articles dataset\n",
    "tech_articles = [\n",
    "    {\n",
    "        \"id\": 1,\n",
    "        \"title\": \"Introduction to Machine Learning\",\n",
    "        \"content\": \"Machine learning is a subset of artificial intelligence that enables computers to learn and make decisions from data without being explicitly programmed.\",\n",
    "        \"category\": \"AI\",\n",
    "        \"author\": \"Mohamed Arbi\",\n",
    "        \"year\": 2024,\n",
    "        \"difficulty\": \"beginner\"\n",
    "    },\n",
    "    {\n",
    "        \"id\": 2,\n",
    "        \"title\": \"Vector Databases Explained\",\n",
    "        \"content\": \"Vector databases store high-dimensional vectors and enable similarity search for AI applications, RAG systems, and recommendation engines.\",\n",
    "        \"category\": \"Database\",\n",
    "        \"author\": \"Lionel Messi\",\n",
    "        \"year\": 2024,\n",
    "        \"difficulty\": \"intermediate\"\n",
    "    },\n",
    "    {\n",
    "        \"id\": 3,\n",
    "        \"title\": \"Deep Learning with Neural Networks\",\n",
    "        \"content\": \"Deep learning uses multi-layer neural networks to model and understand complex patterns in large amounts of data.\",\n",
    "        \"category\": \"AI\",\n",
    "        \"author\": \"Zlatan Ibrahimović\",\n",
    "        \"year\": 2024,\n",
    "        \"difficulty\": \"advanced\"\n",
    "    },\n",
    "    {\n",
    "        \"id\": 4,\n",
    "        \"title\": \"Building Scalable Web APIs\",\n",
    "        \"content\": \"Learn best practices for designing REST APIs that can handle millions of requests per day using proper caching and database optimization.\",\n",
    "        \"category\": \"Web Development\",\n",
    "        \"author\": \"Lionel Messi\",\n",
    "        \"year\": 2024,\n",
    "        \"difficulty\": \"intermediate\"\n",
    "    },\n",
    "    {\n",
    "        \"id\": 5,\n",
    "        \"title\": \"Quantum Computing Basics\",\n",
    "        \"content\": \"Quantum computing leverages quantum mechanical phenomena like superposition and entanglement to process information in revolutionary ways.\",\n",
    "        \"category\": \"Quantum\",\n",
    "        \"author\": \"Dr.Diego Maradona\",\n",
    "        \"year\": 2024,\n",
    "        \"difficulty\": \"advanced\"\n",
    "    },\n",
    "    {\n",
    "        \"id\": 6,\n",
    "        \"title\": \"Cloud Storage Solutions\",\n",
    "        \"content\": \"Compare different cloud storage providers and learn about data durability, availability, and cost optimization strategies.\",\n",
    "        \"category\": \"Cloud\",\n",
    "        \"author\": \"Ronaldinho\",\n",
    "        \"year\": 2024,\n",
    "        \"difficulty\": \"beginner\"\n",
    "    },\n",
    "    {\n",
    "        \"id\": 7,\n",
    "        \"title\": \"Natural Language Processing Fundamentals\",\n",
    "        \"content\": \"NLP combines linguistics and machine learning to help computers understand, interpret, and generate human language.\",\n",
    "        \"category\": \"AI\",\n",
    "        \"author\": \"Erling Haaland\",\n",
    "        \"year\": 2024,\n",
    "        \"difficulty\": \"intermediate\"\n",
    "    },\n",
    "    {\n",
    "        \"id\": 8,\n",
    "        \"title\": \"Blockchain Technology Overview\",\n",
    "        \"content\": \"Blockchain is a distributed ledger technology that maintains a continuously growing list of records secured using cryptography.\",\n",
    "        \"category\": \"Blockchain\",\n",
    "        \"author\": \"Erling Haaland\",\n",
    "        \"year\": 2024,\n",
    "        \"difficulty\": \"intermediate\"\n",
    "    }\n",
    "]\n",
    "\n",
    "# Convert to DataFrame\n",
    "df = pd.DataFrame(tech_articles)\n",
    "print(f\"Created dataset with {len(tech_articles)} articles\")\n",
    "print(\"\\n Sample articles:\")\n",
    "display(df[[\"title\", \"category\", \"difficulty\"]].head())"
   ]
  },
  {
   "cell_type": "markdown",
   "metadata": {},
   "source": [
    "## Step 1: Create Vector Embeddings\n",
    "\n",
    "We need to convert text into vectors using an embedding model. We'll use Sentence Transformers for this."
   ]
  },
  {
   "cell_type": "code",
   "execution_count": 28,
   "metadata": {},
   "outputs": [
    {
     "name": "stdout",
     "output_type": "stream",
     "text": [
      "Loading embedding model...\n",
      "Model loaded! Vector dimension: 384\n",
      "\n",
      " Creating embeddings for articles...\n",
      "Model loaded! Vector dimension: 384\n",
      "\n",
      " Creating embeddings for articles...\n"
     ]
    },
    {
     "data": {
      "application/vnd.jupyter.widget-view+json": {
       "model_id": "51efdc1f6e6945d2859a65aa6ebd6859",
       "version_major": 2,
       "version_minor": 0
      },
      "text/plain": [
       "Batches:   0%|          | 0/1 [00:00<?, ?it/s]"
      ]
     },
     "metadata": {},
     "output_type": "display_data"
    },
    {
     "name": "stdout",
     "output_type": "stream",
     "text": [
      "\n",
      " Created 8 embeddings of dimension 384\n"
     ]
    }
   ],
   "source": [
    "from sentence_transformers import SentenceTransformer\n",
    "\n",
    "# Load a pre-trained embedding model\n",
    "print(\"Loading embedding model...\")\n",
    "model = SentenceTransformer('all-MiniLM-L6-v2')  # 384-dimensional embeddings\n",
    "print(f\"Model loaded! Vector dimension: {model.get_sentence_embedding_dimension()}\")\n",
    "\n",
    "# Create embeddings\n",
    "print(\"\\n Creating embeddings for articles...\")\n",
    "texts = [f\"{article['title']}. {article['content']}\" for article in tech_articles]\n",
    "embeddings = model.encode(texts, show_progress_bar=True)\n",
    "\n",
    "print(f\"\\n Created {len(embeddings)} embeddings of dimension {embeddings.shape[1]}\")"
   ]
  },
  {
   "cell_type": "markdown",
   "metadata": {},
   "source": [
    "## Step 2: Create a Qdrant Collection\n",
    "\n",
    "A collection is like a table in a database - it stores vectors with the same configuration."
   ]
  },
  {
   "cell_type": "code",
   "execution_count": 30,
   "metadata": {},
   "outputs": [
    {
     "name": "stdout",
     "output_type": "stream",
     "text": [
      "Collection 'tech_articles' created successfully!\n",
      "Vector dimension: 384\n"
     ]
    }
   ],
   "source": [
    "collection_name = \"tech_articles\"\n",
    "\n",
    "client.create_collection(\n",
    "    collection_name=collection_name,\n",
    "    vectors_config=VectorParams(\n",
    "        size=embeddings.shape[1],  # Vector dimension (384)\n",
    "        distance=Distance.COSINE \n",
    "    )\n",
    ")\n",
    "\n",
    "print(f\"Collection '{collection_name}' created successfully!\")\n",
    "print(f\"Vector dimension: {embeddings.shape[1]}\")"
   ]
  },
  {
   "cell_type": "markdown",
   "metadata": {},
   "source": [
    "## Step 3: Upload Data to Collection\n",
    "\n",
    "Now let's add our articles as \"points\" (vector + metadata + ID) to the collection."
   ]
  },
  {
   "cell_type": "code",
   "execution_count": 31,
   "metadata": {},
   "outputs": [
    {
     "name": "stdout",
     "output_type": "stream",
     "text": [
      "Uploading points to collection...\n",
      "Successfully uploaded 8 points!\n",
      "Operation status: completed\n",
      "\n",
      " Collection status:\n",
      "  - Points: 8\n",
      "  - Vectors: None\n",
      "  - Status: green\n"
     ]
    }
   ],
   "source": [
    "points = []\n",
    "\n",
    "for i, (article, embedding) in enumerate(zip(tech_articles, embeddings)):\n",
    "    point = PointStruct(\n",
    "        id=article[\"id\"],  # identifier\n",
    "        vector=embedding.tolist(),  # Convert numpy array to list\n",
    "        payload={\n",
    "            \"title\": article[\"title\"],\n",
    "            \"content\": article[\"content\"],\n",
    "            \"category\": article[\"category\"],\n",
    "            \"author\": article[\"author\"],\n",
    "            \"year\": article[\"year\"],\n",
    "            \"difficulty\": article[\"difficulty\"]\n",
    "        }\n",
    "    )\n",
    "    points.append(point)\n",
    "\n",
    "print(\"Uploading points to collection...\")\n",
    "operation_info = client.upsert(\n",
    "    collection_name=collection_name,\n",
    "    points=points\n",
    ")\n",
    "\n",
    "print(f\"Successfully uploaded {len(points)} points!\")\n",
    "print(f\"Operation status: {operation_info.status}\")\n",
    "\n",
    "# Verify collection info\n",
    "collection_info = client.get_collection(collection_name)\n",
    "print(f\"\\n Collection status:\")\n",
    "print(f\"  - Points: {collection_info.points_count}\")\n",
    "print(f\"  - Vectors: {collection_info.vectors_count}\")\n",
    "print(f\"  - Status: {collection_info.status}\")"
   ]
  },
  {
   "cell_type": "markdown",
   "metadata": {},
   "source": [
    "## Step 4: Perform Semantic Search\n",
    "\n",
    "Now comes the magic! Let's search for articles using natural language queries."
   ]
  },
  {
   "cell_type": "code",
   "execution_count": 32,
   "metadata": {},
   "outputs": [
    {
     "name": "stdout",
     "output_type": "stream",
     "text": [
      "Testing semantic search capabilities:\n",
      "\n",
      "Query: 'artificial intelligence and learning algorithms'\n",
      "Found 3 results\n",
      "\n",
      "Result 1 (Score: 0.602)\n",
      " Title: Introduction to Machine Learning\n",
      " Category: AI\n",
      " Content: Machine learning is a subset of artificial intelligence that enables computers to learn and make dec...\n",
      "\n",
      "Result 2 (Score: 0.405)\n",
      " Title: Deep Learning with Neural Networks\n",
      " Category: AI\n",
      " Content: Deep learning uses multi-layer neural networks to model and understand complex patterns in large amo...\n",
      "\n",
      "Result 3 (Score: 0.388)\n",
      " Title: Vector Databases Explained\n",
      " Category: Database\n",
      " Content: Vector databases store high-dimensional vectors and enable similarity search for AI applications, RA...\n",
      "\n"
     ]
    },
    {
     "name": "stderr",
     "output_type": "stream",
     "text": [
      "C:\\Users\\MSI\\AppData\\Local\\Temp\\ipykernel_23784\\183034910.py:6: DeprecationWarning: `search` method is deprecated and will be removed in the future. Use `query_points` instead.\n",
      "  search_results = client.search(\n"
     ]
    }
   ],
   "source": [
    "def search_articles(query, limit=3):\n",
    "    \"\"\"Search for articles using semantic similarity\"\"\"\n",
    "    \n",
    "    query_vector = model.encode(query).tolist()\n",
    "    \n",
    "    search_results = client.search(\n",
    "        collection_name=collection_name,\n",
    "        query_vector=query_vector,\n",
    "        limit=limit,\n",
    "        with_payload=True  # Include metadata in results\n",
    "    )\n",
    "    \n",
    "    print(f\"Query: '{query}'\")\n",
    "    print(f\"Found {len(search_results)} results\\n\")\n",
    "    \n",
    "    for i, result in enumerate(search_results, 1):\n",
    "        print(f\"Result {i} (Score: {result.score:.3f})\")\n",
    "        print(f\" Title: {result.payload['title']}\")\n",
    "        print(f\" Category: {result.payload['category']}\")\n",
    "        print(f\" Content: {result.payload['content'][:100]}...\")\n",
    "        print()\n",
    "    \n",
    "    return search_results\n",
    "\n",
    "print(\"Testing semantic search capabilities:\\n\")\n",
    "results1 = search_articles(\"artificial intelligence and learning algorithms\")\n"
   ]
  },
  {
   "cell_type": "code",
   "execution_count": 33,
   "metadata": {},
   "outputs": [
    {
     "name": "stdout",
     "output_type": "stream",
     "text": [
      "\n",
      "==================================================\n",
      "\n",
      "Query: 'storing and managing data efficiently'\n",
      "Found 3 results\n",
      "\n",
      "Result 1 (Score: 0.348)\n",
      " Title: Cloud Storage Solutions\n",
      " Category: Cloud\n",
      " Content: Compare different cloud storage providers and learn about data durability, availability, and cost op...\n",
      "\n",
      "Result 2 (Score: 0.342)\n",
      " Title: Building Scalable Web APIs\n",
      " Category: Web Development\n",
      " Content: Learn best practices for designing REST APIs that can handle millions of requests per day using prop...\n",
      "\n",
      "Result 3 (Score: 0.214)\n",
      " Title: Deep Learning with Neural Networks\n",
      " Category: AI\n",
      " Content: Deep learning uses multi-layer neural networks to model and understand complex patterns in large amo...\n",
      "\n"
     ]
    },
    {
     "name": "stderr",
     "output_type": "stream",
     "text": [
      "C:\\Users\\MSI\\AppData\\Local\\Temp\\ipykernel_23784\\183034910.py:6: DeprecationWarning: `search` method is deprecated and will be removed in the future. Use `query_points` instead.\n",
      "  search_results = client.search(\n"
     ]
    }
   ],
   "source": [
    "print(\"\\n\" + \"=\"*50 + \"\\n\")\n",
    "results2 = search_articles(\"storing and managing data efficiently\")"
   ]
  },
  {
   "cell_type": "code",
   "execution_count": 34,
   "metadata": {},
   "outputs": [
    {
     "name": "stdout",
     "output_type": "stream",
     "text": [
      "\n",
      "==================================================\n",
      "\n",
      "Query: 'future computing technologies'\n",
      "Found 3 results\n",
      "\n",
      "Result 1 (Score: 0.398)\n",
      " Title: Quantum Computing Basics\n",
      " Category: Quantum\n",
      " Content: Quantum computing leverages quantum mechanical phenomena like superposition and entanglement to proc...\n",
      "\n",
      "Result 2 (Score: 0.293)\n",
      " Title: Blockchain Technology Overview\n",
      " Category: Blockchain\n",
      " Content: Blockchain is a distributed ledger technology that maintains a continuously growing list of records ...\n",
      "\n",
      "Result 3 (Score: 0.284)\n",
      " Title: Cloud Storage Solutions\n",
      " Category: Cloud\n",
      " Content: Compare different cloud storage providers and learn about data durability, availability, and cost op...\n",
      "\n"
     ]
    },
    {
     "name": "stderr",
     "output_type": "stream",
     "text": [
      "C:\\Users\\MSI\\AppData\\Local\\Temp\\ipykernel_23784\\183034910.py:6: DeprecationWarning: `search` method is deprecated and will be removed in the future. Use `query_points` instead.\n",
      "  search_results = client.search(\n"
     ]
    }
   ],
   "source": [
    "print(\"\\n\" + \"=\"*50 + \"\\n\")\n",
    "results3 = search_articles(\"future computing technologies\")"
   ]
  },
  {
   "cell_type": "markdown",
   "metadata": {},
   "source": [
    "## Step 5: Filtering with Metadata\n",
    "\n",
    "One of Qdrant's most powerful features is the ability to combine semantic search with traditional filtering."
   ]
  },
  {
   "cell_type": "code",
   "execution_count": 35,
   "metadata": {},
   "outputs": [
    {
     "name": "stdout",
     "output_type": "stream",
     "text": [
      "Example: AI articles for beginners\n",
      "\n",
      "Result 1 (Score: 0.713)\n",
      " Title: Introduction to Machine Learning\n",
      " Category: AI | Difficulty: beginner\n",
      "\n"
     ]
    },
    {
     "name": "stderr",
     "output_type": "stream",
     "text": [
      "C:\\Users\\MSI\\AppData\\Local\\Temp\\ipykernel_23784\\2769045028.py:7: DeprecationWarning: `search` method is deprecated and will be removed in the future. Use `query_points` instead.\n",
      "  search_results = client.search(\n"
     ]
    }
   ],
   "source": [
    "def search_with_filter(query, filter_conditions, limit=3):\n",
    "    \"\"\"Search with metadata filtering\"\"\"\n",
    "    \n",
    "    query_vector = model.encode(query).tolist()\n",
    "    \n",
    "    # Search with filters\n",
    "    search_results = client.search(\n",
    "        collection_name=collection_name,\n",
    "        query_vector=query_vector,\n",
    "        query_filter=filter_conditions, # will be defined as needed later \n",
    "        limit=limit,\n",
    "        with_payload=True\n",
    "    )\n",
    "    \n",
    "    return search_results\n",
    "\n",
    "# Example: Find AI articles for beginners\n",
    "print(\"Example: AI articles for beginners\\n\")\n",
    "\n",
    "ai_beginner_filter = Filter(\n",
    "    must=[\n",
    "        FieldCondition(\n",
    "            key=\"category\",\n",
    "            match=MatchValue(value=\"AI\")\n",
    "        ),\n",
    "        FieldCondition(\n",
    "            key=\"difficulty\",\n",
    "            match=MatchValue(value=\"beginner\")\n",
    "        )\n",
    "    ]\n",
    ")\n",
    "\n",
    "results = search_with_filter(\n",
    "    query=\"machine learning introduction\",\n",
    "    filter_conditions=ai_beginner_filter\n",
    ")\n",
    "\n",
    "for i, result in enumerate(results, 1):\n",
    "    print(f\"Result {i} (Score: {result.score:.3f})\")\n",
    "    print(f\" Title: {result.payload['title']}\")\n",
    "    print(f\" Category: {result.payload['category']} | Difficulty: {result.payload['difficulty']}\")\n",
    "    print()"
   ]
  },
  {
   "cell_type": "code",
   "execution_count": 36,
   "metadata": {},
   "outputs": [
    {
     "name": "stdout",
     "output_type": "stream",
     "text": [
      "\n",
      " Example 2: Intermediate level articles\n",
      "\n",
      "Result 1 (Score: 0.187)\n",
      " Title: Natural Language Processing Fundamentals\n",
      " Category: AI | Author: Erling Haaland\n",
      "\n",
      "Result 2 (Score: 0.182)\n",
      " Title: Building Scalable Web APIs\n",
      " Category: Web Development | Author: Lionel Messi\n",
      "\n",
      "Result 3 (Score: 0.130)\n",
      " Title: Vector Databases Explained\n",
      " Category: Database | Author: Lionel Messi\n",
      "\n",
      "Result 4 (Score: 0.112)\n",
      " Title: Blockchain Technology Overview\n",
      " Category: Blockchain | Author: Erling Haaland\n",
      "\n"
     ]
    },
    {
     "name": "stderr",
     "output_type": "stream",
     "text": [
      "C:\\Users\\MSI\\AppData\\Local\\Temp\\ipykernel_23784\\2769045028.py:7: DeprecationWarning: `search` method is deprecated and will be removed in the future. Use `query_points` instead.\n",
      "  search_results = client.search(\n"
     ]
    }
   ],
   "source": [
    "# Example 2: Intermediate level articles (any category)\n",
    "print(\"\\n Example 2: Intermediate level articles\\n\")\n",
    "\n",
    "intermediate_filter = Filter(\n",
    "    must=[\n",
    "        FieldCondition(\n",
    "            key=\"difficulty\",\n",
    "            match=MatchValue(value=\"intermediate\")\n",
    "        )\n",
    "    ]\n",
    ")\n",
    "\n",
    "results = search_with_filter(\n",
    "    query=\"programming and development\",\n",
    "    filter_conditions=intermediate_filter,\n",
    "    limit=5\n",
    ")\n",
    "\n",
    "for i, result in enumerate(results, 1):\n",
    "    print(f\"Result {i} (Score: {result.score:.3f})\")\n",
    "    print(f\" Title: {result.payload['title']}\")\n",
    "    print(f\" Category: {result.payload['category']} | Author: {result.payload['author']}\")\n",
    "    print()"
   ]
  },
  {
   "cell_type": "markdown",
   "metadata": {},
   "source": [
    "## Step 6: Adding New Documents\n",
    "\n",
    "Qdrant supports real-time updates. Let's add a new article to our collection."
   ]
  },
  {
   "cell_type": "code",
   "execution_count": 37,
   "metadata": {},
   "outputs": [
    {
     "name": "stdout",
     "output_type": "stream",
     "text": [
      "Added new article to collection!\n",
      "Collection now has 9 articles\n",
      "\n",
      "Testing search with new article:\n",
      "Query: 'vector database tutorial'\n",
      "Found 2 results\n",
      "\n",
      "Result 1 (Score: 0.643)\n",
      " Title: Vector Databases Explained\n",
      " Category: Database\n",
      " Content: Vector databases store high-dimensional vectors and enable similarity search for AI applications, RA...\n",
      "\n",
      "Result 2 (Score: 0.494)\n",
      " Title: Qdrant Vector Search Tutorial\n",
      " Category: Database\n",
      " Content: Learn how to build powerful semantic search applications using Qdrant vector database with real-time...\n",
      "\n"
     ]
    },
    {
     "name": "stderr",
     "output_type": "stream",
     "text": [
      "C:\\Users\\MSI\\AppData\\Local\\Temp\\ipykernel_23784\\183034910.py:6: DeprecationWarning: `search` method is deprecated and will be removed in the future. Use `query_points` instead.\n",
      "  search_results = client.search(\n"
     ]
    }
   ],
   "source": [
    "# Add a new article about qdrant\n",
    "new_article = {\n",
    "    \"id\": 9,\n",
    "    \"title\": \"Qdrant Vector Search Tutorial\",\n",
    "    \"content\": \"Learn how to build powerful semantic search applications using Qdrant vector database with real-time updates and filtering capabilities.\",\n",
    "    \"category\": \"Database\",\n",
    "    \"author\": \"Mohamed Arbi\",\n",
    "    \"year\": 2025,\n",
    "    \"difficulty\": \"beginner\"\n",
    "}\n",
    "\n",
    "#embedding for new article\n",
    "new_text = f\"{new_article['title']}. {new_article['content']}\"\n",
    "new_embedding = model.encode(new_text).tolist()\n",
    "\n",
    "# Add to collection\n",
    "new_point = PointStruct(\n",
    "    id=new_article[\"id\"],\n",
    "    vector=new_embedding,\n",
    "    payload={\n",
    "        \"title\": new_article[\"title\"],\n",
    "        \"content\": new_article[\"content\"],\n",
    "        \"category\": new_article[\"category\"],\n",
    "        \"author\": new_article[\"author\"],\n",
    "        \"year\": new_article[\"year\"],\n",
    "        \"difficulty\": new_article[\"difficulty\"]\n",
    "    }\n",
    ")\n",
    "\n",
    "#upload the new point\n",
    "client.upsert(\n",
    "    collection_name=collection_name,\n",
    "    points=[new_point]\n",
    ")\n",
    "\n",
    "print(\"Added new article to collection!\")\n",
    "\n",
    "updated_collection = client.get_collection(collection_name)\n",
    "print(f\"Collection now has {updated_collection.points_count} articles\")\n",
    "\n",
    "#test \n",
    "print(\"\\nTesting search with new article:\")\n",
    "results = search_articles(\"vector database tutorial\", limit=2)"
   ]
  },
  {
   "cell_type": "markdown",
   "metadata": {},
   "source": [
    "## Step 7: Collection Analytics\n",
    "\n",
    "Let's explore some analytics about our collection."
   ]
  },
  {
   "cell_type": "code",
   "execution_count": 38,
   "metadata": {},
   "outputs": [
    {
     "data": {
      "image/png": "[encoded data removed]",
      "text/plain": [
       "<Figure size 1500x500 with 3 Axes>"
      ]
     },
     "metadata": {},
     "output_type": "display_data"
    },
    {
     "name": "stdout",
     "output_type": "stream",
     "text": [
      "Collection Summary:\n",
      "   Total articles: 9\n",
      "   Categories: 6\n",
      "   Authors: 6\n",
      "   Difficulties: ['beginner', 'intermediate', 'advanced']\n"
     ]
    }
   ],
   "source": [
    "import matplotlib.pyplot as plt\n",
    "from collections import Counter\n",
    "\n",
    "#all points\n",
    "all_points = client.scroll(\n",
    "    collection_name=collection_name,\n",
    "    with_payload=True,\n",
    "    limit=100\n",
    ")[0]\n",
    "\n",
    "categories = [point.payload['category'] for point in all_points]\n",
    "difficulties = [point.payload['difficulty'] for point in all_points]\n",
    "authors = [point.payload['author'] for point in all_points]\n",
    "\n",
    "fig, axes = plt.subplots(1, 3, figsize=(15, 5))\n",
    "\n",
    "# distribution\n",
    "category_counts = Counter(categories)\n",
    "axes[0].bar(category_counts.keys(), category_counts.values(), color='skyblue')\n",
    "axes[0].set_title('Articles by Category')\n",
    "axes[0].tick_params(axis='x', rotation=45)\n",
    "\n",
    "# Difficulty distribution\n",
    "difficulty_counts = Counter(difficulties)\n",
    "axes[1].pie(difficulty_counts.values(), labels=difficulty_counts.keys(), autopct='%1.1f%%')\n",
    "axes[1].set_title('Articles by Difficulty')\n",
    "\n",
    "# Author distribution\n",
    "author_counts = Counter(authors)\n",
    "axes[2].barh(list(author_counts.keys())[:5], list(author_counts.values())[:5], color='lightcoral')\n",
    "axes[2].set_title('Top Authors')\n",
    "\n",
    "plt.tight_layout()\n",
    "plt.show()\n",
    "\n",
    "print(\"Collection Summary:\")\n",
    "print(f\"   Total articles: {len(all_points)}\")\n",
    "print(f\"   Categories: {len(category_counts)}\")\n",
    "print(f\"   Authors: {len(author_counts)}\")\n",
    "print(f\"   Difficulties: {list(difficulty_counts.keys())}\")"
   ]
  },
  {
   "cell_type": "markdown",
   "metadata": {},
   "source": [
    "## Step 8: Advanced Features Demo\n",
    "\n",
    "Let's explore some advanced Qdrant features."
   ]
  },
  {
   "cell_type": "code",
   "execution_count": 39,
   "metadata": {},
   "outputs": [
    {
     "name": "stdout",
     "output_type": "stream",
     "text": [
      "Finding articles similar to: 'Introduction to Machine Learning'\n",
      "\n",
      "Recommendation 1 (Similarity: 0.492)\n",
      "   Title: Deep Learning with Neural Networks\n",
      "   Category: AI\n",
      "\n",
      "Recommendation 2 (Similarity: 0.405)\n",
      "   Title: Natural Language Processing Fundamentals\n",
      "   Category: AI\n",
      "\n",
      "Recommendation 3 (Similarity: 0.395)\n",
      "   Title: Vector Databases Explained\n",
      "   Category: Database\n",
      "\n"
     ]
    },
    {
     "name": "stderr",
     "output_type": "stream",
     "text": [
      "C:\\Users\\MSI\\AppData\\Local\\Temp\\ipykernel_23784\\1586522280.py:15: DeprecationWarning: `search` method is deprecated and will be removed in the future. Use `query_points` instead.\n",
      "  similar_articles = client.search(\n"
     ]
    }
   ],
   "source": [
    "# 1. Recommendation System: Find articles similar to a given article\n",
    "def recommend_similar_articles(article_id, limit=3):\n",
    "    \"\"\"Recommend articles similar to a given article\"\"\"\n",
    "    \n",
    "    article = client.retrieve(\n",
    "        collection_name=collection_name,\n",
    "        ids=[article_id],\n",
    "        with_vectors=True,\n",
    "        with_payload=True\n",
    "    )[0]\n",
    "    \n",
    "    print(f\"Finding articles similar to: '{article.payload['title']}'\\n\")\n",
    "    \n",
    "    # search excluding original\n",
    "    similar_articles = client.search(\n",
    "        collection_name=collection_name,\n",
    "        query_vector=article.vector,\n",
    "        limit=limit + 1,  # +1 because result will include the original\n",
    "        with_payload=True\n",
    "    )\n",
    "    \n",
    "    #filter out original article\n",
    "    recommendations = [art for art in similar_articles if art.id != article_id]\n",
    "    \n",
    "    for i, rec in enumerate(recommendations[:limit], 1):\n",
    "        print(f\"Recommendation {i} (Similarity: {rec.score:.3f})\")\n",
    "        print(f\"   Title: {rec.payload['title']}\")\n",
    "        print(f\"   Category: {rec.payload['category']}\")\n",
    "        print()\n",
    "    \n",
    "    return recommendations\n",
    "\n",
    "recommendations = recommend_similar_articles(article_id=1, limit=3)"
   ]
  },
  {
   "cell_type": "code",
   "execution_count": 40,
   "metadata": {},
   "outputs": [
    {
     "name": "stdout",
     "output_type": "stream",
     "text": [
      "\n",
      "Batch Search Example:\n",
      "\n",
      "Query: 'neural networks deep learning'\n",
      "   • Deep Learning with Neural Networks (Score: 0.617)\n",
      "   • Introduction to Machine Learning (Score: 0.382)\n",
      "\n",
      "Query: 'cloud storage solutions'\n",
      "   • Cloud Storage Solutions (Score: 0.789)\n",
      "   • Building Scalable Web APIs (Score: 0.287)\n",
      "\n",
      "Query: 'blockchain cryptocurrency'\n",
      "   • Blockchain Technology Overview (Score: 0.593)\n",
      "   • Deep Learning with Neural Networks (Score: 0.145)\n",
      "\n"
     ]
    },
    {
     "name": "stderr",
     "output_type": "stream",
     "text": [
      "C:\\Users\\MSI\\AppData\\Local\\Temp\\ipykernel_23784\\3788729280.py:9: DeprecationWarning: `search` method is deprecated and will be removed in the future. Use `query_points` instead.\n",
      "  search_result = client.search(\n"
     ]
    }
   ],
   "source": [
    "# 2. Batch search: Search multiple queries at once\n",
    "def batch_search(queries, limit=2):\n",
    "    \"\"\"Search multiple queries efficiently\"\"\"\n",
    "    \n",
    "    query_vectors = model.encode(queries).tolist()\n",
    "    \n",
    "    results = []\n",
    "    for i, (query, vector) in enumerate(zip(queries, query_vectors)):\n",
    "        search_result = client.search(\n",
    "            collection_name=collection_name,\n",
    "            query_vector=vector,\n",
    "            limit=limit,\n",
    "            with_payload=True\n",
    "        )\n",
    "        results.append((query, search_result))\n",
    "    \n",
    "    return results\n",
    "\n",
    "print(\"\\nBatch Search Example:\\n\")\n",
    "\n",
    "queries = [\n",
    "    \"neural networks deep learning\",\n",
    "    \"cloud storage solutions\",\n",
    "    \"blockchain cryptocurrency\"\n",
    "]\n",
    "\n",
    "batch_results = batch_search(queries)\n",
    "\n",
    "for query, results in batch_results:\n",
    "    print(f\"Query: '{query}'\")\n",
    "    for result in results:\n",
    "        print(f\"   • {result.payload['title']} (Score: {result.score:.3f})\")\n",
    "    print()"
   ]
  },
  {
   "cell_type": "markdown",
   "metadata": {},
   "source": [
    "## Performance Insights & Best Practices\n",
    "\n",
    "Let's measure search performance and learn optimization tips."
   ]
  },
  {
   "cell_type": "code",
   "execution_count": 41,
   "metadata": {},
   "outputs": [
    {
     "name": "stdout",
     "output_type": "stream",
     "text": [
      "Performance Benchmark Results:\n",
      "   Total queries: 20\n",
      "   Total time: 0.171 seconds\n",
      "   Average per query: 8.6 ms\n",
      "   Queries per second: 116.8\n"
     ]
    },
    {
     "name": "stderr",
     "output_type": "stream",
     "text": [
      "C:\\Users\\MSI\\AppData\\Local\\Temp\\ipykernel_23784\\3209155800.py:21: DeprecationWarning: `search` method is deprecated and will be removed in the future. Use `query_points` instead.\n",
      "  client.search(\n"
     ]
    }
   ],
   "source": [
    "import time\n",
    "\n",
    "#search performance\n",
    "def benchmark_search(num_queries=10):\n",
    "    \"\"\"Benchmark search performance\"\"\"\n",
    "    \n",
    "    test_queries = [\n",
    "        \"machine learning algorithms\",\n",
    "        \"database optimization\", \n",
    "        \"web development frameworks\",\n",
    "        \"artificial intelligence applications\",\n",
    "        \"cloud computing services\"\n",
    "    ] * (num_queries // 5 + 1)\n",
    "    \n",
    "    test_queries = test_queries[:num_queries]\n",
    "    \n",
    "    start_time = time.time()\n",
    "    \n",
    "    for query in test_queries:\n",
    "        query_vector = model.encode(query).tolist()\n",
    "        client.search(\n",
    "            collection_name=collection_name,\n",
    "            query_vector=query_vector,\n",
    "            limit=5\n",
    "        )\n",
    "    \n",
    "    end_time = time.time()\n",
    "    total_time = end_time - start_time\n",
    "    \n",
    "    print(f\"Performance Benchmark Results:\")\n",
    "    print(f\"   Total queries: {num_queries}\")\n",
    "    print(f\"   Total time: {total_time:.3f} seconds\")\n",
    "    print(f\"   Average per query: {(total_time/num_queries)*1000:.1f} ms\")\n",
    "    print(f\"   Queries per second: {num_queries/total_time:.1f}\")\n",
    "\n",
    "benchmark_search(20)"
   ]
  },
  {
   "cell_type": "markdown",
   "metadata": {},
   "source": [
    "## Cleanup and Next Steps"
   ]
  },
  {
   "cell_type": "code",
   "execution_count": null,
   "metadata": {},
   "outputs": [],
   "source": [
    "# Optional: Delete collection\n",
    "client.delete_collection(collection_name)\n",
    "print(f\"Collection '{collection_name}' deleted\")"
   ]
  },
  {
   "cell_type": "markdown",
   "metadata": {},
   "source": [
    "## Tutorial Completed!\n",
    "\n",
    "### What You Learned:\n",
    "- Vector embeddings and similarity search\n",
    "- Creating and managing Qdrant collections\n",
    "- Uploading and searching vectors\n",
    "- Metadata filtering and recommendations\n",
    "- Performance optimization tips\n",
    "\n",
    "### Next Steps:\n",
    "- Try the Vector Quantization tutorial\n",
    "- Explore Agents with Qdrant\n",
    "- Build RAG systems with LlamaIndex\n",
    "- Learn multimodal search with images\n",
    "- Scale to production with optimization techniques\n",
    "\n",
    "### Pro Tips:\n",
    "- Experiment with different embedding models\n",
    "- Try various distance metrics (cosine, dot, euclidean)\n",
    "- Create payload indexes for faster filtering\n",
    "- Use Qdrant Cloud for managed hosting\n",
    "\n",
    "\n",
    "### Need Help?\n",
    "- **Documentation:** https://qdrant.tech/documentation/\n",
    "- **Discord:** https://discord.gg/qdrant\n",
    "- **GitHub:** https://github.com/qdrant/qdrant\n",
    "\n",
    "---\n",
    "**Author:** [Mohamed Arbi Nsibi](https://www.linkedin.com/in/mohammed-arbi-nsibi-584a43241/)"
   ]
  },
  {
   "cell_type": "code",
   "execution_count": null,
   "metadata": {},
   "outputs": [],
   "source": []
  }
 ],
 "metadata": {
  "colab": {
   "provenance": []
  },
  "kernelspec": {
   "display_name": "qdrant-resources",
   "language": "python",
   "name": "python3"
  },
  "language_info": {
   "codemirror_mode": {
    "name": "ipython",
    "version": 3
   },
   "file_extension": ".py",
   "mimetype": "text/x-python",
   "name": "python",
   "nbconvert_exporter": "python",
   "pygments_lexer": "ipython3",
   "version": "3.11.9"
  }
 },
 "nbformat": 4,
 "nbformat_minor": 4
}
